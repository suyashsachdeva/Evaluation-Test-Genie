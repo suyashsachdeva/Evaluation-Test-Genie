{
 "cells": [
  {
   "cell_type": "code",
   "execution_count": 1,
   "metadata": {},
   "outputs": [],
   "source": [
    "# import open3d\n",
    "import h5py\n",
    "import cv2\n",
    "import numpy as np\n",
    "import ipyvolume as ipv\n",
    "from sklearn.cluster import DBSCAN\n",
    "import networkx as nx\n",
    "import matplotlib.pyplot as plt\n",
    "\n",
    "PATH = r\"/Users/suyashsachdeva/Desktop/gsoc_data.hdf5\""
   ]
  },
  {
   "cell_type": "code",
   "execution_count": 3,
   "metadata": {},
   "outputs": [],
   "source": [
    "with h5py.File(PATH, 'r') as f:\n",
    "    image = f['X_jets'][:]\n",
    "    m0 = f[\"m0\"][:]\n",
    "    pt = f[\"pt\"][:]"
   ]
  },
  {
   "cell_type": "code",
   "execution_count": 4,
   "metadata": {},
   "outputs": [
    {
     "data": {
      "text/plain": [
       "(139306, 125, 125, 3)"
      ]
     },
     "execution_count": 4,
     "metadata": {},
     "output_type": "execute_result"
    }
   ],
   "source": [
    "image.shape"
   ]
  },
  {
   "cell_type": "code",
   "execution_count": 5,
   "metadata": {},
   "outputs": [
    {
     "data": {
      "application/vnd.jupyter.widget-view+json": {
       "model_id": "f9cf3bbf05954dd7a93e280e4bc777a5",
       "version_major": 2,
       "version_minor": 0
      },
      "text/plain": [
       "Container(figure=Figure(box_center=[0.5, 0.5, 0.5], box_size=[1.0, 1.0, 1.0], camera=PerspectiveCamera(fov=45.…"
      ]
     },
     "metadata": {},
     "output_type": "display_data"
    }
   ],
   "source": [
    "ipv.figure()\n",
    "points_graph = []\n",
    "for c, color in enumerate([\"red\", \"green\", \"blue\"]):\n",
    "    tracks_img = image[0, :, :, c]\n",
    "\n",
    "    m = m0[0]\n",
    "    p = pt[0] \n",
    "\n",
    "    # Assuming the image size is 125x125 and each pixel's intensity represents the magnitude of detection\n",
    "    image_size = 125\n",
    "\n",
    "    # Extract x, y coordinates and their magnitudes from the tracks image\n",
    "    y_coords, x_coords = np.where(tracks_img > 0)  # Get indices of non-zero (detected) pixels\n",
    "    magnitudes = tracks_img[y_coords, x_coords]  # Magnitude from pixel intensity\n",
    "\n",
    "    # Convert magnitudes to a z-coordinate, influenced by m0 and pt, adjusting for visualization\n",
    "    # Here, we assume a simple linear relationship for demonstration\n",
    "    z_coords = np.array((m + p) * (magnitudes / np.max(magnitudes)), dtype=\"int8\")*4 \n",
    "    if color==\"red\":\n",
    "        for c in range(len(x_coords)):\n",
    "            ipv.scatter(x_coords[c], y_coords[c], z_coords[c], marker='sphere', color=color, size=1)\n",
    "            points_graph.append([x_coords[c], y_coords[c], z_coords[c], 1, color])\n",
    "    # Form the 3D points array\n",
    "    else:\n",
    "        points = np.vstack((x_coords, y_coords, z_coords)).T\n",
    "    \n",
    "        clustering = DBSCAN(eps=1.0, min_samples=4).fit(points)\n",
    "        labels = clustering.labels_\n",
    "\n",
    "        # Filter out noise (-1 label)\n",
    "        points_filtered = points[labels != -1]\n",
    "        labels_filtered = labels[labels != -1]\n",
    "\n",
    "        # Calculate centroid and radius for each cluster\n",
    "        unique_labels = set(labels_filtered)\n",
    "        centroids = np.array([points_filtered[labels_filtered == label].mean(axis=0) for label in unique_labels])\n",
    "        radii = np.array([np.sqrt((points_filtered[labels_filtered == label].shape[0]) / np.pi) for label in unique_labels])\n",
    "\n",
    "        # Normalize radii for visualization purposes\n",
    "        radii_normalized = radii / np.max(radii) * 2  # Scale radii for better visualization\n",
    "\n",
    "        ### Step 3: Visualize Clusters\n",
    "        # Plot each cluster as a sphere with radius proportional to the number of points\n",
    "        for centroid, radius in zip(centroids, radii_normalized):\n",
    "            ipv.scatter(centroid[0], centroid[1], centroid[2], size=radius, marker='sphere', color=color)\n",
    "            points_graph.append([x_coords[c], y_coords[c], z_coords[c], radius, color])\n",
    "\n",
    "ipv.xlabel('X')\n",
    "ipv.ylabel('Y')\n",
    "ipv.zlabel('Z')\n",
    "ipv.show()\n"
   ]
  },
  {
   "cell_type": "code",
   "execution_count": 6,
   "metadata": {},
   "outputs": [
    {
     "name": "stdout",
     "output_type": "stream",
     "text": [
      "graph.html\n"
     ]
    },
    {
     "data": {
      "text/html": [
       "\n",
       "        <iframe\n",
       "            width=\"100%\"\n",
       "            height=\"750px\"\n",
       "            src=\"graph.html\"\n",
       "            frameborder=\"0\"\n",
       "            allowfullscreen\n",
       "            \n",
       "        ></iframe>\n",
       "        "
      ],
      "text/plain": [
       "<IPython.lib.display.IFrame at 0x17ea5d730>"
      ]
     },
     "execution_count": 6,
     "metadata": {},
     "output_type": "execute_result"
    }
   ],
   "source": [
    "from pyvis.network import Network\n",
    "import numpy as np\n",
    "from sklearn.cluster import DBSCAN\n",
    "import networkx as nx\n",
    "# Filter out noise\n",
    "\n",
    "G = nx.Graph()\n",
    "for i, point in enumerate(points_graph):\n",
    "    G.add_node(i, pos=points_graph[i][:3], radius=points_graph[i][3], color=points_graph[i][4])\n",
    "\n",
    "# Define a threshold distance for connecting nodes\n",
    "threshold_distance = 60.0\n",
    "\n",
    "# Add edges based on distance\n",
    "for i in range(len(points_graph)):\n",
    "    for j in range(i+1, len(points_graph)):\n",
    "        dist = np.linalg.norm(np.array(points_graph[i][:3]) - np.array(points_graph[j][:3]))\n",
    "        if dist <= threshold_distance:\n",
    "            # The connection strength could be inversely proportional to the distance\n",
    "            strength = 1 / dist if dist != 0 else 1\n",
    "            G.add_edge(i, j, weight=strength)\n",
    "\n",
    "\n",
    "\n",
    "# Initialize a Pyvis network with remote CDN resources\n",
    "net = Network(notebook=True, height=\"750px\", width=\"100%\", cdn_resources='remote')\n",
    "\n",
    "# Add nodes and edges from the NetworkX graph\n",
    "# Ensuring all attributes are converted to JSON serializable formats\n",
    "for node, attr in G.nodes(data=True):\n",
    "    # try:\n",
    "        net.add_node(node, title=f\"Node {node}\", color=str(attr['color']),  size=int(attr['radius'])*10)\n",
    "\n",
    "\n",
    "for source, target, attr in G.edges(data=True):\n",
    "    width = float(attr['weight']) * 10  # Convert weight to float and scale for visibility\n",
    "    # try:\n",
    "    net.add_edge(source, target, title=f\"{attr['weight']:.2f}\", width=width)\n",
    "\n",
    "\n",
    "# Display the network\n",
    "net.show(\"graph.html\")\n"
   ]
  }
 ],
 "metadata": {
  "kernelspec": {
   "display_name": "phar",
   "language": "python",
   "name": "python3"
  },
  "language_info": {
   "codemirror_mode": {
    "name": "ipython",
    "version": 3
   },
   "file_extension": ".py",
   "mimetype": "text/x-python",
   "name": "python",
   "nbconvert_exporter": "python",
   "pygments_lexer": "ipython3",
   "version": "3.9.19"
  }
 },
 "nbformat": 4,
 "nbformat_minor": 2
}
